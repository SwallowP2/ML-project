{
 "cells": [
  {
   "cell_type": "code",
   "execution_count": 1,
   "metadata": {},
   "outputs": [
    {
     "name": "stdout",
     "output_type": "stream",
     "text": [
      "importing Jupyter notebook from Neural_Net.ipynb\n"
     ]
    },
    {
     "name": "stderr",
     "output_type": "stream",
     "text": [
      "Neural_Net.ipynb:2: FutureWarning: specifying 'categories' or 'ordered' in .astype() is deprecated; pass a CategoricalDtype instead\n",
      "  \"cells\": [\n"
     ]
    }
   ],
   "source": [
    "import import_ipynb\n",
    "import Neural_Net as nn\n",
    "import matplotlib.pyplot as plt\n",
    "import seaborn as sns\n",
    "import numpy as np\n",
    "import pandas as pd\n",
    "import math"
   ]
  },
  {
   "cell_type": "code",
   "execution_count": 2,
   "metadata": {},
   "outputs": [],
   "source": [
    "from tensorflow.contrib.learn.python.learn.estimators._sklearn import train_test_split\n",
    "\n",
    "# load the dataset\n",
    "X, Y = nn.load_data()\n",
    "# split into train and test sets\n",
    "# split into train and test sets\n",
    "xtrain, xtest, ytrain, ytest = train_test_split(X, Y, test_size=0.30, random_state=1)"
   ]
  },
  {
   "cell_type": "code",
   "execution_count": 3,
   "metadata": {},
   "outputs": [
    {
     "name": "stderr",
     "output_type": "stream",
     "text": [
      "c:\\users\\plus sys\\appdata\\local\\programs\\python\\python36\\lib\\site-packages\\ipykernel_launcher.py:2: FutureWarning: specifying 'categories' or 'ordered' in .astype() is deprecated; pass a CategoricalDtype instead\n",
      "  \n"
     ]
    }
   ],
   "source": [
    "# prepare input data\n",
    "xtrain_enc, xtest_enc = nn.prepare_inputs(xtrain, xtest)\n",
    "# prepare output data\n",
    "ytrain_enc, ytest_enc = nn.prepare_targets(ytrain, ytest)"
   ]
  },
  {
   "cell_type": "code",
   "execution_count": 30,
   "metadata": {},
   "outputs": [],
   "source": [
    "from collections import Counter, defaultdict\n",
    "def occurrences(outcome):\n",
    "    no_of_examples = len(outcome)\n",
    "    prob = dict(Counter(outcome))\n",
    "    for key in prob.keys():\n",
    "        prob[key] = prob[key] / float(no_of_examples)\n",
    "    return prob"
   ]
  },
  {
   "cell_type": "code",
   "execution_count": 33,
   "metadata": {},
   "outputs": [
    {
     "name": "stdout",
     "output_type": "stream",
     "text": [
      "{1: 0.3, 0: 0.7}\n"
     ]
    }
   ],
   "source": [
    "class_probabilities = occurrences(ytrain_enc)\n",
    "print((class_probabilities))"
   ]
  },
  {
   "cell_type": "code",
   "execution_count": 49,
   "metadata": {},
   "outputs": [],
   "source": [
    "def naive_bayes(xtrain_enc, ytrain_enc, new_sample):\n",
    "    classes     = np.unique(ytrain_enc)\n",
    "    rows, cols  = np.shape(xtrain_enc)\n",
    "    likelihoods = {}\n",
    "    for cls in classes:\n",
    "        #initializing the dictionary\n",
    "        likelihoods[cls] = defaultdict(list)\n",
    "\n",
    "\n",
    "    for cls in classes:\n",
    "        #taking samples of only 1 class at a time\n",
    "        row_indices = np.where(ytrain_enc == cls)[0]\n",
    "        subset = xtrain_enc[row_indices, :]\n",
    "        r, c = np.shape(subset)\n",
    "        for j in range(0, c):\n",
    "            likelihoods[cls][j] += list(subset[:,j])    \n",
    "\n",
    "    for cls in classes:\n",
    "        for j in range(0,c):\n",
    "            likelihoods[cls][j] = occurrences(likelihoods[cls][j])\n",
    "    results = {}\n",
    "\n",
    "    for cls in classes:\n",
    "        class_probability = class_probabilities[cls]\n",
    "        for i in range(0,len(new_sample)):\n",
    "            relative_feature_values = likelihoods[cls][i]\n",
    "            if new_sample[i] in relative_feature_values.keys():\n",
    "                class_probability *= relative_feature_values[new_sample[i]]\n",
    "            else:\n",
    "                class_probability *= 0\n",
    "        results[cls] = class_probability\n",
    "    return results"
   ]
  },
  {
   "cell_type": "code",
   "execution_count": 111,
   "metadata": {},
   "outputs": [
    {
     "name": "stdout",
     "output_type": "stream",
     "text": [
      "            predicted cancer  predicted no cancer\n",
      "has cancer                 8                   17\n",
      "no cancer                 15                   46\n",
      "\n",
      "Accuracy: 0.627906976744186 \n",
      "\n"
     ]
    },
    {
     "data": {
      "image/png": "[encoded data removed]",
      "text/plain": [
       "<Figure size 432x288 with 2 Axes>"
      ]
     },
     "metadata": {
      "needs_background": "light"
     },
     "output_type": "display_data"
    }
   ],
   "source": [
    "c = 0\n",
    "f = 0\n",
    "ypred = []\n",
    "for i in range(len(ytest_enc)):\n",
    "    result = naive_bayes(xtrain_enc,ytrain_enc,xtest_enc[i])\n",
    "    \n",
    "    #get the value of the class with highest value\n",
    "    p = max(result.values())\n",
    "    per = list(result.keys())[list(result.values()).index(p)]\n",
    "    ypred.append(per)\n",
    "\n",
    "\n",
    "from sklearn.metrics import confusion_matrix \n",
    "from sklearn import metrics\n",
    "\n",
    "cm = np.array(confusion_matrix(ytest_enc,ypred, labels =[1,0]))\n",
    "confusion = pd.DataFrame(cm, index = ['has cancer','no cancer'], columns= ['predicted cancer', 'predicted no cancer'])\n",
    "print(confusion)\n",
    "sns.heatmap(confusion, annot = True)\n",
    "    \n",
    "print(\"\\nAccuracy:\",metrics.accuracy_score(ytest_enc, ypred),\"\\n\")"
   ]
  }
 ],
 "metadata": {
  "kernelspec": {
   "display_name": "Python 3",
   "language": "python",
   "name": "python3"
  },
  "language_info": {
   "codemirror_mode": {
    "name": "ipython",
    "version": 3
   },
   "file_extension": ".py",
   "mimetype": "text/x-python",
   "name": "python",
   "nbconvert_exporter": "python",
   "pygments_lexer": "ipython3",
   "version": "3.6.5"
  }
 },
 "nbformat": 4,
 "nbformat_minor": 4
}
