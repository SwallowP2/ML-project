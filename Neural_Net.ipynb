{
 "cells": [
  {
   "cell_type": "code",
   "execution_count": 17,
   "metadata": {},
   "outputs": [],
   "source": [
    "import sys"
   ]
  },
  {
   "cell_type": "code",
   "execution_count": 6,
   "metadata": {},
   "outputs": [],
   "source": [
    "import numpy as np\n",
    "import pandas as pd\n",
    "\n",
    "def load_data():    \n",
    "            \n",
    "    data = pd.read_csv('..\\\\Breast Cancer dataset\\Breast_Cancer_dataset.txt', header=None)\n",
    "    \n",
    "    # retrieve numpy array\n",
    "    dataset = data.values\n",
    "        \n",
    "    for i in dataset:\n",
    "        for j, item in enumerate(i):\n",
    "            i[j] = item.replace(\"'\", \"\")\n",
    "\n",
    "\n",
    "    X = dataset[:, :-1]\n",
    "    Y = dataset[:,-1]\n",
    "    \n",
    "    X = X.astype(str)\n",
    "  \n",
    "\n",
    "    return X, Y\n"
   ]
  },
  {
   "cell_type": "code",
   "execution_count": 7,
   "metadata": {
    "scrolled": true
   },
   "outputs": [],
   "source": [
    "from tensorflow.contrib.learn.python.learn.estimators._sklearn import train_test_split\n",
    "\n",
    "# load the dataset\n",
    "X, Y = load_data()\n",
    "# split into train and test sets\n",
    "xtrain, xtest, ytrain, ytest = train_test_split(X, Y, test_size=0.30, random_state=1)\n"
   ]
  },
  {
   "cell_type": "code",
   "execution_count": 8,
   "metadata": {},
   "outputs": [],
   "source": [
    "def features():\n",
    "    with open('..\\\\Breast Cancer dataset\\\\breast_cancer', 'r', encoding=\"utf-8\") as filehandle:\n",
    "        breastCancerData = filehandle.readlines()\n",
    "    \n",
    "    features = []\n",
    "\n",
    "    for line in breastCancerData:\n",
    "        if '@attribute' in line:\n",
    "            line = line.lstrip('@attribute').split()\n",
    "            features.append(line[0])\n",
    "                        \n",
    "    features[-2] = features[-2].replace(\"'\",\"\")\n",
    "            \n",
    "    features = features[:-1]\n",
    "    return features\n"
   ]
  },
  {
   "cell_type": "code",
   "execution_count": 9,
   "metadata": {},
   "outputs": [],
   "source": [
    "# prepare input data\n",
    "def prepare_inputs(xtrain, xtest):\n",
    "\n",
    "    #convert to pd dataframes\n",
    "    xtrain = pd.DataFrame(xtrain,index=None)\n",
    "    xtest = pd.DataFrame(xtest, index=None)\n",
    "    \n",
    "    xtrain.columns = features()\n",
    "    xtest.columns = features()\n",
    "    \n",
    "    \n",
    "    all_data = pd.concat((xtrain,xtest))\n",
    "    #for column in all_data.select_dtypes(include=[np.object]).columns:\n",
    "        #print(column, all_data[column].unique())\n",
    "        \n",
    "    \n",
    "    for column in all_data.select_dtypes(include=[np.object]).columns:\n",
    "        xtrain[column] = xtrain[column].astype('category', categories = all_data[column].unique())\n",
    "        xtest[column] = xtest[column].astype('category', categories = all_data[column].unique())\n",
    "    \n",
    "\n",
    "    xtrain_enc = pd.get_dummies(xtrain,columns=features())\n",
    "    xtest_enc = pd.get_dummies(xtest,columns=features())\n",
    "    \n",
    "    #convert back to np array\n",
    "    \n",
    "    xtrain_enc = xtrain_enc.to_numpy()\n",
    "    xtest_enc = xtest_enc.to_numpy()\n",
    "    \n",
    "    xtest_enc = np.reshape(xtest_enc,(xtest_enc.shape[0],xtrain_enc.shape[-1]))    \n",
    "\n",
    "    return xtrain_enc, xtest_enc\n",
    "\n",
    "\n"
   ]
  },
  {
   "cell_type": "code",
   "execution_count": 10,
   "metadata": {},
   "outputs": [],
   "source": [
    "# prepare target\n",
    "def prepare_targets(ytrain, ytest):\n",
    "    from sklearn.preprocessing import LabelEncoder\n",
    "    le = LabelEncoder()\n",
    "    le.fit(ytrain)\n",
    "    ytrain_enc = le.transform(ytrain)\n",
    "    ytest_enc = le.transform(ytest)\n",
    "\n",
    "    return ytrain_enc, ytest_enc"
   ]
  },
  {
   "cell_type": "code",
   "execution_count": 11,
   "metadata": {},
   "outputs": [
    {
     "name": "stderr",
     "output_type": "stream",
     "text": [
      "c:\\users\\plus sys\\appdata\\local\\programs\\python\\python36\\lib\\site-packages\\ipykernel_launcher.py:2: FutureWarning: specifying 'categories' or 'ordered' in .astype() is deprecated; pass a CategoricalDtype instead\n",
      "  \n"
     ]
    }
   ],
   "source": [
    "# prepare input data\n",
    "xtrain_enc, xtest_enc = prepare_inputs(xtrain, xtest)\n",
    "# prepare output data\n",
    "ytrain_enc, ytest_enc = prepare_targets(ytrain, ytest)"
   ]
  },
  {
   "cell_type": "code",
   "execution_count": 12,
   "metadata": {},
   "outputs": [],
   "source": [
    "class nn:\n",
    "    def __init__(self, xtrain, ytrain, xtest, ytest, hidNodes=12, lrRate=0.1, epochs=500):\n",
    "        self.ytrain = ytrain\n",
    "        self.xtrain = xtrain\n",
    "\n",
    "        self.ytest = ytest\n",
    "        self.xtest = xtest\n",
    "        \n",
    "        # params\n",
    "        np.random.seed(4)\n",
    "        self.input_nodes = len(xtrain[0])\n",
    "        self.hid_nodes = hidNodes\n",
    "        self.output_nodes = self.ytrain.shape[0]\n",
    "        self.lrRate = lrRate\n",
    "\n",
    "        # init weights\n",
    "        self.w1 = 2 * np.random.random((self.input_nodes, self.hid_nodes)) -1\n",
    "        self.w2 = 2 * np.random.random((self.hid_nodes, self.output_nodes)) - 1\n",
    "\n",
    "        self.train(epochs)\n",
    "        self.test()\n",
    "        \n",
    "    #activation func\n",
    "\n",
    "    def sigmoid(self, x):\n",
    "        return 1 / (1 + np.exp(-x))\n",
    "    \n",
    "    def dsigmoid(self, x):\n",
    "        return x * (1 - x)\n",
    "    \n",
    "        \n",
    "    def train(self, epochs):\n",
    "        for e in range(epochs):\n",
    "            hid_layer = self.sigmoid(np.dot(self.xtrain, self.w1))\n",
    "            out_layer = self.sigmoid(np.dot(hid_layer, self.w2))\n",
    "\n",
    "            #backpropagation\n",
    "            err = self.ytrain - out_layer\n",
    "\n",
    "            out_layer_delta = err * self.dsigmoid(out_layer)\n",
    "            hid_layer_delta = out_layer.dot(self.w2.T) * self.dsigmoid(hid_layer)\n",
    "\n",
    "            #update weights\n",
    "            self.w2 = np.add(self.w2, hid_layer.T.dot(out_layer_delta)) * self.lrRate\n",
    "        print('training error: ', abs(err).mean())\n",
    "\n",
    "    \n",
    "    def test(self):\n",
    "        \n",
    "        correct = 0\n",
    "        pred_list = []\n",
    "\n",
    "        \n",
    "        hid_layer = self.sigmoid(np.dot(self.xtest, self.w1))\n",
    "        out_layer = self.sigmoid(np.dot(hid_layer, self.w2))\n",
    "        \n",
    "        \n",
    "        for i in range(len(out_layer)):            \n",
    "        \n",
    "            if out_layer[i].mean() >= 0.5: #np.full(out_layer[i].shape,0.5):\n",
    "                pred = 1\n",
    "            else: \n",
    "                pred = 0\n",
    "            \n",
    "            if pred == self.ytest[i]:\n",
    "                correct += 1\n",
    "                \n",
    "            pred_list.append(pred)\n",
    "            \n",
    "        print('accuracy: ',correct/len(ytest))\n",
    "                \n",
    "            \n",
    "    #TODO : plot the data an result"
   ]
  },
  {
   "cell_type": "code",
   "execution_count": 16,
   "metadata": {
    "scrolled": true
   },
   "outputs": [],
   "source": [
    "#n = nn(xtrain_enc,ytrain_enc,xtest_enc,ytest_enc,epochs = 500)"
   ]
  },
  {
   "cell_type": "code",
   "execution_count": null,
   "metadata": {},
   "outputs": [],
   "source": []
  },
  {
   "cell_type": "code",
   "execution_count": null,
   "metadata": {},
   "outputs": [],
   "source": []
  }
 ],
 "metadata": {
  "kernelspec": {
   "display_name": "Python 3",
   "language": "python",
   "name": "python3"
  },
  "language_info": {
   "codemirror_mode": {
    "name": "ipython",
    "version": 3
   },
   "file_extension": ".py",
   "mimetype": "text/x-python",
   "name": "python",
   "nbconvert_exporter": "python",
   "pygments_lexer": "ipython3",
   "version": "3.6.5"
  }
 },
 "nbformat": 4,
 "nbformat_minor": 2
}
