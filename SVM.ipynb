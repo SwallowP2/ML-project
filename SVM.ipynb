{
 "cells": [
  {
   "cell_type": "code",
   "execution_count": 6,
   "metadata": {},
   "outputs": [],
   "source": [
    "import import_ipynb\n",
    "import Neural_Net as nn\n",
    "import matplotlib.pyplot as plt\n",
    "import seaborn as sns\n",
    "import numpy as np\n",
    "import pandas as pd"
   ]
  },
  {
   "cell_type": "code",
   "execution_count": 2,
   "metadata": {},
   "outputs": [],
   "source": [
    "from tensorflow.contrib.learn.python.learn.estimators._sklearn import train_test_split\n",
    "\n",
    "# load the dataset\n",
    "X, Y = nn.load_data()\n",
    "# split into train and test sets\n",
    "xtrain, xtest, ytrain, ytest = train_test_split(X, Y, test_size=0.30, random_state=1)\n"
   ]
  },
  {
   "cell_type": "code",
   "execution_count": 3,
   "metadata": {},
   "outputs": [
    {
     "name": "stderr",
     "output_type": "stream",
     "text": [
      "c:\\users\\plus sys\\appdata\\local\\programs\\python\\python36\\lib\\site-packages\\ipykernel_launcher.py:2: FutureWarning: specifying 'categories' or 'ordered' in .astype() is deprecated; pass a CategoricalDtype instead\n",
      "  \n"
     ]
    }
   ],
   "source": [
    "# prepare input data\n",
    "xtrain_enc, xtest_enc = nn.prepare_inputs(xtrain, xtest)\n",
    "# prepare output data\n",
    "ytrain_enc, ytest_enc = nn.prepare_targets(ytrain, ytest)"
   ]
  },
  {
   "cell_type": "code",
   "execution_count": 4,
   "metadata": {},
   "outputs": [],
   "source": [
    "from sklearn import svm\n",
    "\n",
    "y_pred = np.zeros(ytest_enc.shape)\n",
    "\n",
    "#Create a svm Classifier\n",
    "def SVM(kernel):\n",
    "    clf = svm.SVC(kernel=kernel) # Linear Kernel\n",
    "\n",
    "    #Train the model using the training sets\n",
    "    clf.fit(xtrain_enc, ytrain_enc)\n",
    "\n",
    "    #Predict the response for test dataset\n",
    "    y_pred = clf.predict(xtest_enc)\n",
    "    return y_pred\n",
    "    "
   ]
  },
  {
   "cell_type": "code",
   "execution_count": 5,
   "metadata": {},
   "outputs": [
    {
     "name": "stdout",
     "output_type": "stream",
     "text": [
      "Best Kernel:  poly \n",
      "\n",
      "            predicted cancer  predicted no cancer\n",
      "has cancer                11                   14\n",
      "no cancer                  7                   54\n",
      "\n",
      "Accuracy: 0.7558139534883721 \n",
      "\n"
     ]
    },
    {
     "data": {
      "image/png": "[encoded data removed]",
      "text/plain": [
       "<Figure size 432x288 with 2 Axes>"
      ]
     },
     "metadata": {
      "needs_background": "light"
     },
     "output_type": "display_data"
    }
   ],
   "source": [
    "\n",
    "#Import scikit-learn metrics module for accuracy calculation\n",
    "from sklearn import metrics\n",
    "from sklearn.metrics import confusion_matrix \n",
    "\n",
    "accuracy = []\n",
    "kernels = ['linear', 'poly', 'rbf']\n",
    "\n",
    "for kernel in kernels:\n",
    "    y_pred = SVM(kernel)\n",
    "    accuracy.append(metrics.accuracy_score(ytest_enc, y_pred))\n",
    "    cm = np.array(confusion_matrix(ytest_enc,y_pred, labels =[1,0]))\n",
    "    \n",
    "kernel = kernels[accuracy.index(max(accuracy))]\n",
    "\n",
    "print(\"Best Kernel: \" , kernel, '\\n')\n",
    "\n",
    "y_pred = SVM(kernel)\n",
    "cm = np.array(confusion_matrix(ytest_enc,y_pred, labels =[1,0]))\n",
    "\n",
    "confusion = pd.DataFrame(cm, index = ['has cancer','no cancer'], columns= ['predicted cancer', 'predicted no cancer'])\n",
    "print(confusion)\n",
    "sns.heatmap(confusion, annot = True)\n",
    "    \n",
    "print(\"\\nAccuracy:\",metrics.accuracy_score(ytest_enc, y_pred),\"\\n\")"
   ]
  }
 ],
 "metadata": {
  "kernelspec": {
   "display_name": "Python 3",
   "language": "python",
   "name": "python3"
  },
  "language_info": {
   "codemirror_mode": {
    "name": "ipython",
    "version": 3
   },
   "file_extension": ".py",
   "mimetype": "text/x-python",
   "name": "python",
   "nbconvert_exporter": "python",
   "pygments_lexer": "ipython3",
   "version": "3.6.5"
  }
 },
 "nbformat": 4,
 "nbformat_minor": 4
}
